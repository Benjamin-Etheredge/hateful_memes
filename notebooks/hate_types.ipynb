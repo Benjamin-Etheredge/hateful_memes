{
 "cells": [
  {
   "cell_type": "code",
   "execution_count": 25,
   "metadata": {},
   "outputs": [],
   "source": [
    "import pandas as pd\n",
    "import numpy as np\n",
    "import matplotlib.pyplot as plt\n",
    "import seaborn as sns\n",
    "import os\n",
    "\n",
    "fp = os.path.join('..' ,'data', '07_model_output', 'visual_bert', '20220503-161039.pkl')\n",
    "df = pd.read_pickle(fp)"
   ]
  },
  {
   "cell_type": "code",
   "execution_count": 26,
   "metadata": {},
   "outputs": [],
   "source": [
    "fg_fp = os.path.join('..', 'data', '01_raw', 'fine_grained', 'dev_unseen.json')\n",
    "fg = pd.read_json(fg_fp, lines=True)\n",
    "fg_train_fp = os.path.join('..', 'data', '01_raw', 'fine_grained', 'train.json')\n",
    "fg_train = pd.read_json(fg_train_fp, lines=True)"
   ]
  },
  {
   "cell_type": "code",
   "execution_count": 27,
   "metadata": {},
   "outputs": [],
   "source": [
    "merged = pd.merge(df, fg, left_on='img_id', right_on='id')"
   ]
  },
  {
   "cell_type": "code",
   "execution_count": null,
   "metadata": {},
   "outputs": [],
   "source": []
  },
  {
   "cell_type": "code",
   "execution_count": 28,
   "metadata": {},
   "outputs": [
    {
     "data": {
      "text/html": [
       "<div>\n",
       "<style scoped>\n",
       "    .dataframe tbody tr th:only-of-type {\n",
       "        vertical-align: middle;\n",
       "    }\n",
       "\n",
       "    .dataframe tbody tr th {\n",
       "        vertical-align: top;\n",
       "    }\n",
       "\n",
       "    .dataframe thead th {\n",
       "        text-align: right;\n",
       "    }\n",
       "</style>\n",
       "<table border=\"1\" class=\"dataframe\">\n",
       "  <thead>\n",
       "    <tr style=\"text-align: right;\">\n",
       "      <th></th>\n",
       "      <th>img_id</th>\n",
       "      <th>label</th>\n",
       "      <th>pred</th>\n",
       "      <th>source</th>\n",
       "      <th>id</th>\n",
       "      <th>set_name</th>\n",
       "      <th>img</th>\n",
       "      <th>text</th>\n",
       "      <th>gold_hate</th>\n",
       "      <th>gold_pc</th>\n",
       "      <th>gold_attack</th>\n",
       "      <th>pc</th>\n",
       "      <th>attack</th>\n",
       "    </tr>\n",
       "  </thead>\n",
       "  <tbody>\n",
       "    <tr>\n",
       "      <th>0</th>\n",
       "      <td>76432</td>\n",
       "      <td>0</td>\n",
       "      <td>0.120957</td>\n",
       "      <td>val</td>\n",
       "      <td>76432</td>\n",
       "      <td>dev_unseen</td>\n",
       "      <td>img/76432.png</td>\n",
       "      <td>you thinking what i'm thinking?</td>\n",
       "      <td>[not_hateful]</td>\n",
       "      <td>[pc_empty]</td>\n",
       "      <td>[attack_empty]</td>\n",
       "      <td>None</td>\n",
       "      <td>None</td>\n",
       "    </tr>\n",
       "    <tr>\n",
       "      <th>1</th>\n",
       "      <td>14270</td>\n",
       "      <td>0</td>\n",
       "      <td>0.120853</td>\n",
       "      <td>val</td>\n",
       "      <td>14270</td>\n",
       "      <td>dev_unseen</td>\n",
       "      <td>img/14270.png</td>\n",
       "      <td>a brilliant mind</td>\n",
       "      <td>[not_hateful]</td>\n",
       "      <td>[pc_empty]</td>\n",
       "      <td>[attack_empty]</td>\n",
       "      <td>None</td>\n",
       "      <td>None</td>\n",
       "    </tr>\n",
       "    <tr>\n",
       "      <th>2</th>\n",
       "      <td>56947</td>\n",
       "      <td>0</td>\n",
       "      <td>0.808672</td>\n",
       "      <td>val</td>\n",
       "      <td>56947</td>\n",
       "      <td>dev_unseen</td>\n",
       "      <td>img/56947.png</td>\n",
       "      <td>pro gamer 6.000.000 kills, 1 death</td>\n",
       "      <td>[not_hateful]</td>\n",
       "      <td>[pc_empty]</td>\n",
       "      <td>[attack_empty]</td>\n",
       "      <td>None</td>\n",
       "      <td>None</td>\n",
       "    </tr>\n",
       "    <tr>\n",
       "      <th>3</th>\n",
       "      <td>35174</td>\n",
       "      <td>0</td>\n",
       "      <td>0.120750</td>\n",
       "      <td>val</td>\n",
       "      <td>35174</td>\n",
       "      <td>dev_unseen</td>\n",
       "      <td>img/35174.png</td>\n",
       "      <td>lets end poaching</td>\n",
       "      <td>[not_hateful]</td>\n",
       "      <td>[pc_empty]</td>\n",
       "      <td>[attack_empty]</td>\n",
       "      <td>None</td>\n",
       "      <td>None</td>\n",
       "    </tr>\n",
       "    <tr>\n",
       "      <th>4</th>\n",
       "      <td>39264</td>\n",
       "      <td>0</td>\n",
       "      <td>0.120646</td>\n",
       "      <td>val</td>\n",
       "      <td>39264</td>\n",
       "      <td>dev_unseen</td>\n",
       "      <td>img/39264.png</td>\n",
       "      <td>my wife called me a good husband thats a huge ...</td>\n",
       "      <td>[not_hateful]</td>\n",
       "      <td>[pc_empty]</td>\n",
       "      <td>[attack_empty]</td>\n",
       "      <td>None</td>\n",
       "      <td>None</td>\n",
       "    </tr>\n",
       "  </tbody>\n",
       "</table>\n",
       "</div>"
      ],
      "text/plain": [
       "   img_id  label      pred source     id    set_name            img  \\\n",
       "0   76432      0  0.120957    val  76432  dev_unseen  img/76432.png   \n",
       "1   14270      0  0.120853    val  14270  dev_unseen  img/14270.png   \n",
       "2   56947      0  0.808672    val  56947  dev_unseen  img/56947.png   \n",
       "3   35174      0  0.120750    val  35174  dev_unseen  img/35174.png   \n",
       "4   39264      0  0.120646    val  39264  dev_unseen  img/39264.png   \n",
       "\n",
       "                                                text      gold_hate  \\\n",
       "0                    you thinking what i'm thinking?  [not_hateful]   \n",
       "1                                   a brilliant mind  [not_hateful]   \n",
       "2                 pro gamer 6.000.000 kills, 1 death  [not_hateful]   \n",
       "3                                  lets end poaching  [not_hateful]   \n",
       "4  my wife called me a good husband thats a huge ...  [not_hateful]   \n",
       "\n",
       "      gold_pc     gold_attack    pc attack  \n",
       "0  [pc_empty]  [attack_empty]  None   None  \n",
       "1  [pc_empty]  [attack_empty]  None   None  \n",
       "2  [pc_empty]  [attack_empty]  None   None  \n",
       "3  [pc_empty]  [attack_empty]  None   None  \n",
       "4  [pc_empty]  [attack_empty]  None   None  "
      ]
     },
     "execution_count": 28,
     "metadata": {},
     "output_type": "execute_result"
    }
   ],
   "source": [
    "merged.head()"
   ]
  },
  {
   "cell_type": "code",
   "execution_count": 29,
   "metadata": {},
   "outputs": [],
   "source": [
    "merged = pd.merge(df, fg, left_on='img_id', right_on='id')\n",
    "# unpack lists\n",
    "for col in ['gold_hate', 'gold_pc', 'gold_attack']:\n",
    "    for dataframe in [merged, fg_train]:\n",
    "        dataframe[col] = dataframe[col].apply(lambda x: ''.join(x))\n",
    "\n",
    "# create pred\n",
    "merged['final_pred'] = (merged['pred']>0.5).astype(int)\n",
    "merged['is_correct'] = merged['final_pred']==merged['label'] "
   ]
  },
  {
   "cell_type": "code",
   "execution_count": 30,
   "metadata": {},
   "outputs": [
    {
     "data": {
      "text/plain": [
       "pc_empty                 341\n",
       "religion                  62\n",
       "race                      49\n",
       "sex                       37\n",
       "nationality               15\n",
       "disability                13\n",
       "racereligion               7\n",
       "nationalityreligion        3\n",
       "sexdisability              3\n",
       "religionsex                2\n",
       "racesex                    2\n",
       "religionrace               2\n",
       "racereligionsex            1\n",
       "nationalityrace            1\n",
       "nationalitydisability      1\n",
       "sexrace                    1\n",
       "Name: gold_pc, dtype: int64"
      ]
     },
     "execution_count": 30,
     "metadata": {},
     "output_type": "execute_result"
    }
   ],
   "source": [
    "merged['gold_pc'].value_counts()"
   ]
  },
  {
   "cell_type": "code",
   "execution_count": 32,
   "metadata": {},
   "outputs": [
    {
     "data": {
      "text/plain": [
       "[1078, 1008, 746, 325, 255]"
      ]
     },
     "execution_count": 32,
     "metadata": {},
     "output_type": "execute_result"
    }
   ],
   "source": [
    "pc_types = ['religion', 'race', 'sex', 'nationality', 'disability']\n",
    "\n",
    "recalls = []\n",
    "num_trainings = []\n",
    "for pc_type in pc_types:\n",
    "    filtered = merged[merged['gold_pc'].apply(lambda x: pc_type in x)]\n",
    "    recall = filtered.is_correct.mean()\n",
    "    recalls.append(recall)\n",
    "\n",
    "    num_training = fg_train[fg_train['gold_pc'].apply(lambda x: pc_type in x)]\n",
    "    num_trainings.append(num_training.shape[0])\n",
    "\n",
    "recalls\n",
    "num_trainings"
   ]
  },
  {
   "cell_type": "code",
   "execution_count": 35,
   "metadata": {},
   "outputs": [
    {
     "data": {
      "text/plain": [
       "Text(0, 0.5, 'Number of training examples')"
      ]
     },
     "execution_count": 35,
     "metadata": {},
     "output_type": "execute_result"
    },
    {
     "data": {
      "image/png": "[encoded data removed]",
      "text/plain": [
       "<Figure size 864x288 with 2 Axes>"
      ]
     },
     "metadata": {
      "needs_background": "light"
     },
     "output_type": "display_data"
    }
   ],
   "source": [
    "fig, ax = plt.subplots(1, 2, figsize=(12, 4))\n",
    "p1 = sns.barplot(x=pc_types, y=recalls, ax=ax[0], color='darkgreen')\n",
    "p1.set_xlabel('Protected class')\n",
    "p1.set_ylabel('Recall')\n",
    "\n",
    "p2 = sns.barplot(x=pc_types, y=num_trainings, ax=ax[1], color='gray')\n",
    "p2.set_xlabel('Protected class')\n",
    "p2.set_ylabel('Number of training examples')"
   ]
  },
  {
   "cell_type": "code",
   "execution_count": null,
   "metadata": {},
   "outputs": [],
   "source": []
  }
 ],
 "metadata": {
  "interpreter": {
   "hash": "949777d72b0d2535278d3dc13498b2535136f6dfe0678499012e853ee9abcab1"
  },
  "kernelspec": {
   "display_name": "Python 3.8.13 64-bit",
   "language": "python",
   "name": "python3"
  },
  "language_info": {
   "codemirror_mode": {
    "name": "ipython",
    "version": 3
   },
   "file_extension": ".py",
   "mimetype": "text/x-python",
   "name": "python",
   "nbconvert_exporter": "python",
   "pygments_lexer": "ipython3",
   "version": "3.8.13"
  },
  "orig_nbformat": 4
 },
 "nbformat": 4,
 "nbformat_minor": 2
}
